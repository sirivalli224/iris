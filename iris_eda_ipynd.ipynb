{
  "nbformat": 4,
  "nbformat_minor": 0,
  "metadata": {
    "colab": {
      "provenance": [],
      "authorship_tag": "ABX9TyNJ+kjBwQSansfLU7aXgJYI",
      "include_colab_link": true
    },
    "kernelspec": {
      "name": "python3",
      "display_name": "Python 3"
    },
    "language_info": {
      "name": "python"
    }
  },
  "cells": [
    {
      "cell_type": "markdown",
      "metadata": {
        "id": "view-in-github",
        "colab_type": "text"
      },
      "source": [
        "<a href=\"https://colab.research.google.com/github/sirivalli224/iris/blob/main/iris_eda_ipynd.ipynb\" target=\"_parent\"><img src=\"https://colab.research.google.com/assets/colab-badge.svg\" alt=\"Open In Colab\"/></a>"
      ]
    },
    {
      "cell_type": "code",
      "execution_count": null,
      "metadata": {
        "id": "KiZXxYMa2T_O"
      },
      "outputs": [],
      "source": [
        "import pandas as pd\n",
        "\n",
        "url = \"https://bit.ly/4nejNue\"\n",
        "df = pd.read_csv(url)\n",
        "\n",
        "df.head()\n"
      ]
    },
    {
      "cell_type": "code",
      "source": [
        "# Mean, median, std, and describe\n",
        "print(\"Mean:\\n\", df.mean(numeric_only=True))\n",
        "print(\"\\nMedian:\\n\", df.median(numeric_only=True))\n",
        "print(\"\\nStandard Deviation:\\n\", df.std(numeric_only=True))\n",
        "print(\"\\nDescribe:\\n\", df.describe())"
      ],
      "metadata": {
        "id": "6TTPaHW_3NgO"
      },
      "execution_count": null,
      "outputs": []
    },
    {
      "cell_type": "code",
      "source": [
        "import matplotlib.pyplot as plt\n",
        "\n",
        "# Plot histograms for all numeric columns\n",
        "df.hist(figsize=(10, 8), edgecolor='black')\n",
        "plt.tight_layout()\n",
        "plt.show()"
      ],
      "metadata": {
        "id": "9n4ndUno3Pn8"
      },
      "execution_count": null,
      "outputs": []
    }
  ]
}